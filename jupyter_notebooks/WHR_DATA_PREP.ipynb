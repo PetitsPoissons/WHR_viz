{
 "cells": [
  {
   "cell_type": "markdown",
   "metadata": {},
   "source": [
    "# WHR DATA MUNGING - Extracting data per year"
   ]
  },
  {
   "cell_type": "code",
   "execution_count": 2,
   "metadata": {},
   "outputs": [],
   "source": [
    "# import dependencies\n",
    "import csv\n",
    "import json\n",
    "import requests\n",
    "import pandas as pd\n",
    "import numpy as np"
   ]
  },
  {
   "cell_type": "code",
   "execution_count": 3,
   "metadata": {},
   "outputs": [],
   "source": [
    "# get csv files\n",
    "whr = pd.read_csv('whr_raw.csv')"
   ]
  },
  {
   "cell_type": "code",
   "execution_count": 4,
   "metadata": {},
   "outputs": [
    {
     "name": "stdout",
     "output_type": "stream",
     "text": [
      "<class 'pandas.core.frame.DataFrame'>\n",
      "RangeIndex: 1704 entries, 0 to 1703\n",
      "Data columns (total 16 columns):\n",
      "country                    1704 non-null object\n",
      "year                       1704 non-null int64\n",
      "ladder                     1704 non-null float64\n",
      "log_gdp_per_capita         1676 non-null float64\n",
      "social_support             1691 non-null float64\n",
      "healthy_life_expectancy    1676 non-null float64\n",
      "freedom                    1675 non-null float64\n",
      "generosity                 1622 non-null float64\n",
      "corruption                 1608 non-null float64\n",
      "positive_affect            1685 non-null float64\n",
      "negative_affect            1691 non-null float64\n",
      "trust_government           1530 non-null float64\n",
      "democratic_quality         1558 non-null float64\n",
      "delivery_quality           1559 non-null float64\n",
      "well_being_inequality_1    1704 non-null float64\n",
      "well_being_inequality_2    1704 non-null float64\n",
      "dtypes: float64(14), int64(1), object(1)\n",
      "memory usage: 213.1+ KB\n"
     ]
    }
   ],
   "source": [
    "whr.rename(columns = {\n",
    "    'Country name': 'country',\n",
    "    'Year': 'year',\n",
    "    'Life Ladder': 'ladder',\n",
    "    'Log GDP per capita': 'log_gdp_per_capita',\n",
    "    'Social support': 'social_support',\n",
    "    'Healthy life expectancy at birth': 'healthy_life_expectancy',\n",
    "    'Freedom to make life choices': 'freedom',\n",
    "    'Generosity': 'generosity',\n",
    "    'Perceptions of corruption': 'corruption',\n",
    "    'Positive affect': 'positive_affect',\n",
    "    'Negative affect': 'negative_affect',\n",
    "    'Confidence in national government': 'trust_government',\n",
    "    'Democratic Quality': 'democratic_quality',\n",
    "    'Delivery Quality': 'delivery_quality',\n",
    "    'Standard deviation of ladder by country-year': 'well_being_inequality_1',\n",
    "    'Standard deviation/Mean of ladder by country-year': 'well_being_inequality_2'\n",
    "}, inplace=True)\n",
    "whr.info()"
   ]
  },
  {
   "cell_type": "code",
   "execution_count": 5,
   "metadata": {},
   "outputs": [
    {
     "data": {
      "text/html": [
       "<div>\n",
       "<style scoped>\n",
       "    .dataframe tbody tr th:only-of-type {\n",
       "        vertical-align: middle;\n",
       "    }\n",
       "\n",
       "    .dataframe tbody tr th {\n",
       "        vertical-align: top;\n",
       "    }\n",
       "\n",
       "    .dataframe thead th {\n",
       "        text-align: right;\n",
       "    }\n",
       "</style>\n",
       "<table border=\"1\" class=\"dataframe\">\n",
       "  <thead>\n",
       "    <tr style=\"text-align: right;\">\n",
       "      <th></th>\n",
       "      <th>ladder</th>\n",
       "      <th>log_gdp_per_capita</th>\n",
       "      <th>social_support</th>\n",
       "      <th>healthy_life_expectancy</th>\n",
       "      <th>freedom</th>\n",
       "      <th>generosity</th>\n",
       "      <th>corruption</th>\n",
       "      <th>positive_affect</th>\n",
       "      <th>negative_affect</th>\n",
       "      <th>trust_government</th>\n",
       "      <th>democratic_quality</th>\n",
       "      <th>delivery_quality</th>\n",
       "      <th>well_being_inequality_1</th>\n",
       "      <th>well_being_inequality_2</th>\n",
       "    </tr>\n",
       "  </thead>\n",
       "  <tbody>\n",
       "    <tr>\n",
       "      <th>0</th>\n",
       "      <td>3.72</td>\n",
       "      <td>7.17</td>\n",
       "      <td>0.45</td>\n",
       "      <td>50.80</td>\n",
       "      <td>0.72</td>\n",
       "      <td>0.18</td>\n",
       "      <td>0.88</td>\n",
       "      <td>0.52</td>\n",
       "      <td>0.26</td>\n",
       "      <td>0.61</td>\n",
       "      <td>-1.93</td>\n",
       "      <td>-1.66</td>\n",
       "      <td>1.77</td>\n",
       "      <td>0.48</td>\n",
       "    </tr>\n",
       "    <tr>\n",
       "      <th>1</th>\n",
       "      <td>4.40</td>\n",
       "      <td>7.33</td>\n",
       "      <td>0.55</td>\n",
       "      <td>51.20</td>\n",
       "      <td>0.68</td>\n",
       "      <td>0.20</td>\n",
       "      <td>0.85</td>\n",
       "      <td>0.58</td>\n",
       "      <td>0.24</td>\n",
       "      <td>0.61</td>\n",
       "      <td>-2.04</td>\n",
       "      <td>-1.64</td>\n",
       "      <td>1.72</td>\n",
       "      <td>0.39</td>\n",
       "    </tr>\n",
       "    <tr>\n",
       "      <th>2</th>\n",
       "      <td>4.76</td>\n",
       "      <td>7.39</td>\n",
       "      <td>0.54</td>\n",
       "      <td>51.60</td>\n",
       "      <td>0.60</td>\n",
       "      <td>0.13</td>\n",
       "      <td>0.71</td>\n",
       "      <td>0.62</td>\n",
       "      <td>0.28</td>\n",
       "      <td>0.30</td>\n",
       "      <td>-1.99</td>\n",
       "      <td>-1.62</td>\n",
       "      <td>1.88</td>\n",
       "      <td>0.39</td>\n",
       "    </tr>\n",
       "    <tr>\n",
       "      <th>3</th>\n",
       "      <td>3.83</td>\n",
       "      <td>7.42</td>\n",
       "      <td>0.52</td>\n",
       "      <td>51.92</td>\n",
       "      <td>0.50</td>\n",
       "      <td>0.17</td>\n",
       "      <td>0.73</td>\n",
       "      <td>0.61</td>\n",
       "      <td>0.27</td>\n",
       "      <td>0.31</td>\n",
       "      <td>-1.92</td>\n",
       "      <td>-1.62</td>\n",
       "      <td>1.79</td>\n",
       "      <td>0.47</td>\n",
       "    </tr>\n",
       "    <tr>\n",
       "      <th>4</th>\n",
       "      <td>3.78</td>\n",
       "      <td>7.52</td>\n",
       "      <td>0.52</td>\n",
       "      <td>52.24</td>\n",
       "      <td>0.53</td>\n",
       "      <td>0.24</td>\n",
       "      <td>0.78</td>\n",
       "      <td>0.71</td>\n",
       "      <td>0.27</td>\n",
       "      <td>0.44</td>\n",
       "      <td>-1.84</td>\n",
       "      <td>-1.40</td>\n",
       "      <td>1.80</td>\n",
       "      <td>0.48</td>\n",
       "    </tr>\n",
       "  </tbody>\n",
       "</table>\n",
       "</div>"
      ],
      "text/plain": [
       "   ladder  log_gdp_per_capita  social_support  healthy_life_expectancy  \\\n",
       "0    3.72                7.17            0.45                    50.80   \n",
       "1    4.40                7.33            0.55                    51.20   \n",
       "2    4.76                7.39            0.54                    51.60   \n",
       "3    3.83                7.42            0.52                    51.92   \n",
       "4    3.78                7.52            0.52                    52.24   \n",
       "\n",
       "   freedom  generosity  corruption  positive_affect  negative_affect  \\\n",
       "0     0.72        0.18        0.88             0.52             0.26   \n",
       "1     0.68        0.20        0.85             0.58             0.24   \n",
       "2     0.60        0.13        0.71             0.62             0.28   \n",
       "3     0.50        0.17        0.73             0.61             0.27   \n",
       "4     0.53        0.24        0.78             0.71             0.27   \n",
       "\n",
       "   trust_government  democratic_quality  delivery_quality  \\\n",
       "0              0.61               -1.93             -1.66   \n",
       "1              0.61               -2.04             -1.64   \n",
       "2              0.30               -1.99             -1.62   \n",
       "3              0.31               -1.92             -1.62   \n",
       "4              0.44               -1.84             -1.40   \n",
       "\n",
       "   well_being_inequality_1  well_being_inequality_2  \n",
       "0                     1.77                     0.48  \n",
       "1                     1.72                     0.39  \n",
       "2                     1.88                     0.39  \n",
       "3                     1.79                     0.47  \n",
       "4                     1.80                     0.48  "
      ]
     },
     "execution_count": 5,
     "metadata": {},
     "output_type": "execute_result"
    }
   ],
   "source": [
    "# round to 2 decimals where appropriate\n",
    "whr_round = whr[['ladder', 'log_gdp_per_capita', 'social_support', 'healthy_life_expectancy', 'freedom', 'generosity',\n",
    "               'corruption', 'positive_affect', 'negative_affect', 'trust_government', 'democratic_quality',\n",
    "               'delivery_quality', 'well_being_inequality_1', 'well_being_inequality_2']]\n",
    "whr_round = whr_round.round(2)\n",
    "whr_round.head()"
   ]
  },
  {
   "cell_type": "code",
   "execution_count": null,
   "metadata": {},
   "outputs": [],
   "source": [
    "whr = pd.concat([whr[['country', 'year']], whr_round], axis=1)\n",
    "whr.head()"
   ]
  },
  {
   "cell_type": "code",
   "execution_count": null,
   "metadata": {},
   "outputs": [],
   "source": [
    "# create whr by year\n",
    "whr_2018 = whr[whr.year == 2018].reset_index(drop=True)\n",
    "whr_2017 = whr[whr.year == 2017].reset_index(drop=True)\n",
    "whr_2016 = whr[whr.year == 2016].reset_index(drop=True)\n",
    "whr_2015 = whr[whr.year == 2015].reset_index(drop=True)\n",
    "whr_2014 = whr[whr.year == 2014].reset_index(drop=True)\n",
    "whr_2013 = whr[whr.year == 2013].reset_index(drop=True)\n",
    "whr_2012 = whr[whr.year == 2012].reset_index(drop=True)\n",
    "whr_2011 = whr[whr.year == 2011].reset_index(drop=True)\n",
    "whr_2010 = whr[whr.year == 2010].reset_index(drop=True)\n",
    "whr_2009 = whr[whr.year == 2009].reset_index(drop=True)\n",
    "whr_2008 = whr[whr.year == 2008].reset_index(drop=True)\n",
    "whr_2007 = whr[whr.year == 2007].reset_index(drop=True)\n",
    "whr_2006 = whr[whr.year == 2006].reset_index(drop=True)\n",
    "whr_2005 = whr[whr.year == 2005].reset_index(drop=True)"
   ]
  },
  {
   "cell_type": "code",
   "execution_count": null,
   "metadata": {},
   "outputs": [],
   "source": [
    "whr_2018.sort_values(by='ladder', ascending=False, inplace=True)\n",
    "whr_2018.reset_index(drop=True)"
   ]
  },
  {
   "cell_type": "code",
   "execution_count": null,
   "metadata": {},
   "outputs": [],
   "source": [
    "rank = []\n",
    "nb = len(whr_2018)\n",
    "for i in range(nb):\n",
    "    rank.append(i+1)\n",
    "    i += 1\n",
    "whr_2018['rank'] = rank\n",
    "whr_2018.reset_index(drop=True)"
   ]
  },
  {
   "cell_type": "code",
   "execution_count": null,
   "metadata": {},
   "outputs": [],
   "source": [
    "whr_2017.sort_values(by='ladder', ascending=False, inplace=True)\n",
    "whr_2017.reset_index(drop=True)"
   ]
  },
  {
   "cell_type": "code",
   "execution_count": null,
   "metadata": {},
   "outputs": [],
   "source": [
    "rank = []\n",
    "nb = len(whr_2017)\n",
    "for i in range(nb):\n",
    "    rank.append(i+1)\n",
    "    i += 1\n",
    "whr_2017['rank'] = rank\n",
    "whr_2017.reset_index(drop=True)"
   ]
  },
  {
   "cell_type": "code",
   "execution_count": null,
   "metadata": {},
   "outputs": [],
   "source": [
    "whr_2016.sort_values(by='ladder', ascending=False, inplace=True)\n",
    "whr_2016.reset_index(drop=True)"
   ]
  },
  {
   "cell_type": "code",
   "execution_count": null,
   "metadata": {},
   "outputs": [],
   "source": [
    "rank = []\n",
    "nb = len(whr_2016)\n",
    "for i in range(nb):\n",
    "    rank.append(i+1)\n",
    "    i += 1\n",
    "whr_2016['rank'] = rank\n",
    "whr_2016.reset_index(drop=True)"
   ]
  },
  {
   "cell_type": "code",
   "execution_count": null,
   "metadata": {},
   "outputs": [],
   "source": [
    "whr_2015.sort_values(by='ladder', ascending=False, inplace=True)\n",
    "whr_2015.reset_index(drop=True)"
   ]
  },
  {
   "cell_type": "code",
   "execution_count": null,
   "metadata": {},
   "outputs": [],
   "source": [
    "rank = []\n",
    "nb = len(whr_2015)\n",
    "for i in range(nb):\n",
    "    rank.append(i+1)\n",
    "    i += 1\n",
    "whr_2015['rank'] = rank\n",
    "whr_2015.reset_index(drop=True)"
   ]
  },
  {
   "cell_type": "code",
   "execution_count": null,
   "metadata": {},
   "outputs": [],
   "source": [
    "whr_2014.sort_values(by='ladder', ascending=False, inplace=True)\n",
    "whr_2014.reset_index(drop=True)"
   ]
  },
  {
   "cell_type": "code",
   "execution_count": null,
   "metadata": {},
   "outputs": [],
   "source": [
    "rank = []\n",
    "nb = len(whr_2014)\n",
    "for i in range(nb):\n",
    "    rank.append(i+1)\n",
    "    i += 1\n",
    "whr_2014['rank'] = rank\n",
    "whr_2014.reset_index(drop=True)"
   ]
  },
  {
   "cell_type": "code",
   "execution_count": null,
   "metadata": {},
   "outputs": [],
   "source": [
    "whr_2013.sort_values(by='ladder', ascending=False, inplace=True)\n",
    "whr_2013.reset_index(drop=True)"
   ]
  },
  {
   "cell_type": "code",
   "execution_count": null,
   "metadata": {},
   "outputs": [],
   "source": [
    "rank = []\n",
    "nb = len(whr_2013)\n",
    "for i in range(nb):\n",
    "    rank.append(i+1)\n",
    "    i += 1\n",
    "whr_2013['rank'] = rank\n",
    "whr_2013.reset_index(drop=True)"
   ]
  },
  {
   "cell_type": "code",
   "execution_count": null,
   "metadata": {},
   "outputs": [],
   "source": [
    "whr_2012.sort_values(by='ladder', ascending=False, inplace=True)\n",
    "whr_2012.reset_index(drop=True)"
   ]
  },
  {
   "cell_type": "code",
   "execution_count": null,
   "metadata": {},
   "outputs": [],
   "source": [
    "rank = []\n",
    "nb = len(whr_2012)\n",
    "for i in range(nb):\n",
    "    rank.append(i+1)\n",
    "    i += 1\n",
    "whr_2012['rank'] = rank\n",
    "whr_2012.reset_index(drop=True)"
   ]
  },
  {
   "cell_type": "code",
   "execution_count": null,
   "metadata": {},
   "outputs": [],
   "source": [
    "whr_2011.sort_values(by='ladder', ascending=False, inplace=True)\n",
    "whr_2011.reset_index(drop=True)"
   ]
  },
  {
   "cell_type": "code",
   "execution_count": null,
   "metadata": {},
   "outputs": [],
   "source": [
    "rank = []\n",
    "nb = len(whr_2011)\n",
    "for i in range(nb):\n",
    "    rank.append(i+1)\n",
    "    i += 1\n",
    "whr_2011['rank'] = rank\n",
    "whr_2011.reset_index(drop=True)"
   ]
  },
  {
   "cell_type": "code",
   "execution_count": null,
   "metadata": {},
   "outputs": [],
   "source": [
    "whr_2010.sort_values(by='ladder', ascending=False, inplace=True)\n",
    "whr_2010.reset_index(drop=True)"
   ]
  },
  {
   "cell_type": "code",
   "execution_count": null,
   "metadata": {},
   "outputs": [],
   "source": [
    "rank = []\n",
    "nb = len(whr_2010)\n",
    "for i in range(nb):\n",
    "    rank.append(i+1)\n",
    "    i += 1\n",
    "whr_2010['rank'] = rank\n",
    "whr_2010.reset_index(drop=True)"
   ]
  },
  {
   "cell_type": "code",
   "execution_count": null,
   "metadata": {},
   "outputs": [],
   "source": [
    "whr_2009.sort_values(by='ladder', ascending=False, inplace=True)\n",
    "whr_2009.reset_index(drop=True)"
   ]
  },
  {
   "cell_type": "code",
   "execution_count": null,
   "metadata": {},
   "outputs": [],
   "source": [
    "rank = []\n",
    "nb = len(whr_2009)\n",
    "for i in range(nb):\n",
    "    rank.append(i+1)\n",
    "    i += 1\n",
    "whr_2009['rank'] = rank\n",
    "whr_2009.reset_index(drop=True)"
   ]
  },
  {
   "cell_type": "code",
   "execution_count": null,
   "metadata": {},
   "outputs": [],
   "source": [
    "whr_2008.sort_values(by='ladder', ascending=False, inplace=True)\n",
    "whr_2008.reset_index(drop=True)"
   ]
  },
  {
   "cell_type": "code",
   "execution_count": null,
   "metadata": {},
   "outputs": [],
   "source": [
    "rank = []\n",
    "nb = len(whr_2008)\n",
    "for i in range(nb):\n",
    "    rank.append(i+1)\n",
    "    i += 1\n",
    "whr_2008['rank'] = rank\n",
    "whr_2008.reset_index(drop=True)"
   ]
  },
  {
   "cell_type": "code",
   "execution_count": null,
   "metadata": {},
   "outputs": [],
   "source": [
    "whr_2007.sort_values(by='ladder', ascending=False, inplace=True)\n",
    "whr_2007.reset_index(drop=True)"
   ]
  },
  {
   "cell_type": "code",
   "execution_count": null,
   "metadata": {},
   "outputs": [],
   "source": [
    "rank = []\n",
    "nb = len(whr_2007)\n",
    "for i in range(nb):\n",
    "    rank.append(i+1)\n",
    "    i += 1\n",
    "whr_2007['rank'] = rank\n",
    "whr_2007.reset_index(drop=True)"
   ]
  },
  {
   "cell_type": "code",
   "execution_count": null,
   "metadata": {},
   "outputs": [],
   "source": [
    "whr_2006.sort_values(by='ladder', ascending=False, inplace=True)\n",
    "whr_2006.reset_index(drop=True)"
   ]
  },
  {
   "cell_type": "code",
   "execution_count": null,
   "metadata": {},
   "outputs": [],
   "source": [
    "rank = []\n",
    "nb = len(whr_2006)\n",
    "for i in range(nb):\n",
    "    rank.append(i+1)\n",
    "    i += 1\n",
    "whr_2006['rank'] = rank\n",
    "whr_2006.reset_index(drop=True)"
   ]
  },
  {
   "cell_type": "code",
   "execution_count": null,
   "metadata": {},
   "outputs": [],
   "source": [
    "whr_2005.sort_values(by='ladder', ascending=False, inplace=True)\n",
    "whr_2005.reset_index(drop=True)"
   ]
  },
  {
   "cell_type": "code",
   "execution_count": null,
   "metadata": {},
   "outputs": [],
   "source": [
    "rank = []\n",
    "nb = len(whr_2005)\n",
    "for i in range(nb):\n",
    "    rank.append(i+1)\n",
    "    i += 1\n",
    "whr_2005['rank'] = rank\n",
    "whr_2005.reset_index(drop=True)"
   ]
  },
  {
   "cell_type": "code",
   "execution_count": null,
   "metadata": {},
   "outputs": [],
   "source": [
    "#df = pd.merge(whr, countries, left_on = 'country', right_on = 'country', how = 'left')\n",
    "#c = pd.concat([a,b],ignore_index=True)\n",
    "whr_all_years = pd.concat([whr_2018, whr_2017, whr_2016, whr_2015, whr_2014, whr_2013, whr_2012, whr_2011, whr_2010,\n",
    "                           whr_2009, whr_2008, whr_2007, whr_2006, whr_2005], ignore_index=True)\n",
    "print(whr_all_years.info())\n",
    "print(whr.info())"
   ]
  },
  {
   "cell_type": "raw",
   "metadata": {},
   "source": [
    "# save all whr files to csv\n",
    "whr_2018.to_csv('whr_2018.csv')\n",
    "whr_2017.to_csv('whr_2017.csv')\n",
    "whr_2016.to_csv('whr_2016.csv')\n",
    "whr_2015.to_csv('whr_2015.csv')\n",
    "whr_2014.to_csv('whr_2014.csv')\n",
    "whr_2013.to_csv('whr_2013.csv')\n",
    "whr_2012.to_csv('whr_2012.csv')\n",
    "whr_2011.to_csv('whr_2011.csv')\n",
    "whr_2010.to_csv('whr_2010.csv')\n",
    "whr_2009.to_csv('whr_2009.csv')\n",
    "whr_2008.to_csv('whr_2008.csv')\n",
    "whr_2007.to_csv('whr_2007.csv')\n",
    "whr_2006.to_csv('whr_2006.csv')\n",
    "whr_2005.to_csv('whr_2005.csv')\n",
    "whr_all_years.to_csv('whr_all_years.csv')"
   ]
  },
  {
   "cell_type": "markdown",
   "metadata": {},
   "source": [
    "# WHR DATA MUNGING - Preparing whr_16to18 and whr_changes"
   ]
  },
  {
   "cell_type": "code",
   "execution_count": null,
   "metadata": {},
   "outputs": [],
   "source": [
    "# get csv files\n",
    "whr_16to18 = pd.read_csv('whr_16to18.csv')\n",
    "whr_changes = pd.read_csv('whr_changes.csv')"
   ]
  },
  {
   "cell_type": "code",
   "execution_count": null,
   "metadata": {},
   "outputs": [],
   "source": [
    "df = pd.merge(whr_16to18, whr_changes, left_on = 'Country', right_on = 'Country', how = 'left')\n",
    "df.head()"
   ]
  },
  {
   "cell_type": "code",
   "execution_count": null,
   "metadata": {},
   "outputs": [],
   "source": [
    "df.rename(columns = {\n",
    "    'Country': 'country',\n",
    "    'Happiness score': 'ladder',\n",
    "    'Whisker-high_x': 'whisker-high',\n",
    "    'Whisker-low_x': 'whisker-low',\n",
    "    'Changes in happiness scores': 'changes_happiness'\n",
    "}, inplace=True)\n",
    "df.info()"
   ]
  },
  {
   "cell_type": "code",
   "execution_count": null,
   "metadata": {},
   "outputs": [],
   "source": [
    "# Drop columns\n",
    "df.drop('Dystopia (1.88) + residual', axis=1, inplace=True)\n",
    "df.drop('Explained by: GDP per capita', axis=1, inplace=True)\n",
    "df.drop('Explained by: Social support', axis=1, inplace=True)\n",
    "df.drop('Explained by: Healthy life expectancy', axis=1, inplace=True)\n",
    "df.drop('Explained by: Freedom to make life choices', axis=1, inplace=True)\n",
    "df.drop('Explained by: Generosity', axis=1, inplace=True)\n",
    "df.drop('Explained by: Perceptions of corruption', axis=1, inplace=True)\n",
    "df.drop('Whisker-high_y', axis=1, inplace=True)\n",
    "df.drop('Whisker-low_y', axis=1, inplace=True)\n",
    "df.head()"
   ]
  },
  {
   "cell_type": "code",
   "execution_count": null,
   "metadata": {},
   "outputs": [],
   "source": [
    "df.sort_values(by='ladder', ascending=False, inplace=True)\n",
    "df.reset_index(drop=True)"
   ]
  },
  {
   "cell_type": "code",
   "execution_count": null,
   "metadata": {},
   "outputs": [],
   "source": [
    "rank = []\n",
    "nb = len(df)\n",
    "for i in range(nb):\n",
    "    rank.append(i+1)\n",
    "    i += 1\n",
    "df['rank'] = rank\n",
    "df.reset_index(drop=True)"
   ]
  },
  {
   "cell_type": "code",
   "execution_count": null,
   "metadata": {},
   "outputs": [],
   "source": [
    "# replace missing values in changes_happiness column with 0\n",
    "df = df.fillna(0)"
   ]
  },
  {
   "cell_type": "code",
   "execution_count": 59,
   "metadata": {},
   "outputs": [
    {
     "data": {
      "text/html": [
       "<div>\n",
       "<style scoped>\n",
       "    .dataframe tbody tr th:only-of-type {\n",
       "        vertical-align: middle;\n",
       "    }\n",
       "\n",
       "    .dataframe tbody tr th {\n",
       "        vertical-align: top;\n",
       "    }\n",
       "\n",
       "    .dataframe thead th {\n",
       "        text-align: right;\n",
       "    }\n",
       "</style>\n",
       "<table border=\"1\" class=\"dataframe\">\n",
       "  <thead>\n",
       "    <tr style=\"text-align: right;\">\n",
       "      <th></th>\n",
       "      <th>country</th>\n",
       "      <th>year</th>\n",
       "      <th>ladder_x</th>\n",
       "      <th>log_gdp_per_capita</th>\n",
       "      <th>social_support</th>\n",
       "      <th>healthy_life_expectancy</th>\n",
       "      <th>freedom</th>\n",
       "      <th>generosity</th>\n",
       "      <th>corruption</th>\n",
       "      <th>positive_affect</th>\n",
       "      <th>...</th>\n",
       "      <th>democratic_quality</th>\n",
       "      <th>delivery_quality</th>\n",
       "      <th>well_being_inequality_1</th>\n",
       "      <th>well_being_inequality_2</th>\n",
       "      <th>rank_x</th>\n",
       "      <th>ladder_y</th>\n",
       "      <th>whisker-high</th>\n",
       "      <th>whisker-low</th>\n",
       "      <th>changes_happiness</th>\n",
       "      <th>rank_y</th>\n",
       "    </tr>\n",
       "  </thead>\n",
       "  <tbody>\n",
       "    <tr>\n",
       "      <th>0</th>\n",
       "      <td>Finland</td>\n",
       "      <td>2018</td>\n",
       "      <td>7.86</td>\n",
       "      <td>10.64</td>\n",
       "      <td>0.96</td>\n",
       "      <td>71.90</td>\n",
       "      <td>0.94</td>\n",
       "      <td>-0.13</td>\n",
       "      <td>0.20</td>\n",
       "      <td>0.78</td>\n",
       "      <td>...</td>\n",
       "      <td>NaN</td>\n",
       "      <td>NaN</td>\n",
       "      <td>1.43</td>\n",
       "      <td>0.18</td>\n",
       "      <td>1</td>\n",
       "      <td>7.769</td>\n",
       "      <td>7.83</td>\n",
       "      <td>7.708</td>\n",
       "      <td>0.097</td>\n",
       "      <td>1.0</td>\n",
       "    </tr>\n",
       "    <tr>\n",
       "      <th>1</th>\n",
       "      <td>Finland</td>\n",
       "      <td>2017</td>\n",
       "      <td>7.79</td>\n",
       "      <td>10.61</td>\n",
       "      <td>0.96</td>\n",
       "      <td>71.80</td>\n",
       "      <td>0.96</td>\n",
       "      <td>-0.01</td>\n",
       "      <td>0.19</td>\n",
       "      <td>0.79</td>\n",
       "      <td>...</td>\n",
       "      <td>1.31</td>\n",
       "      <td>2.00</td>\n",
       "      <td>1.42</td>\n",
       "      <td>0.18</td>\n",
       "      <td>1</td>\n",
       "      <td>7.769</td>\n",
       "      <td>7.83</td>\n",
       "      <td>7.708</td>\n",
       "      <td>0.097</td>\n",
       "      <td>1.0</td>\n",
       "    </tr>\n",
       "    <tr>\n",
       "      <th>2</th>\n",
       "      <td>Finland</td>\n",
       "      <td>2016</td>\n",
       "      <td>7.66</td>\n",
       "      <td>10.59</td>\n",
       "      <td>0.95</td>\n",
       "      <td>71.70</td>\n",
       "      <td>0.95</td>\n",
       "      <td>-0.03</td>\n",
       "      <td>0.25</td>\n",
       "      <td>0.80</td>\n",
       "      <td>...</td>\n",
       "      <td>1.27</td>\n",
       "      <td>1.98</td>\n",
       "      <td>1.48</td>\n",
       "      <td>0.19</td>\n",
       "      <td>1</td>\n",
       "      <td>7.769</td>\n",
       "      <td>7.83</td>\n",
       "      <td>7.708</td>\n",
       "      <td>0.097</td>\n",
       "      <td>1.0</td>\n",
       "    </tr>\n",
       "    <tr>\n",
       "      <th>3</th>\n",
       "      <td>Finland</td>\n",
       "      <td>2015</td>\n",
       "      <td>7.45</td>\n",
       "      <td>10.57</td>\n",
       "      <td>0.95</td>\n",
       "      <td>71.60</td>\n",
       "      <td>0.93</td>\n",
       "      <td>0.11</td>\n",
       "      <td>0.22</td>\n",
       "      <td>0.75</td>\n",
       "      <td>...</td>\n",
       "      <td>1.29</td>\n",
       "      <td>2.00</td>\n",
       "      <td>1.57</td>\n",
       "      <td>0.21</td>\n",
       "      <td>5</td>\n",
       "      <td>7.769</td>\n",
       "      <td>7.83</td>\n",
       "      <td>7.708</td>\n",
       "      <td>0.097</td>\n",
       "      <td>1.0</td>\n",
       "    </tr>\n",
       "    <tr>\n",
       "      <th>4</th>\n",
       "      <td>Finland</td>\n",
       "      <td>2014</td>\n",
       "      <td>7.38</td>\n",
       "      <td>10.57</td>\n",
       "      <td>0.95</td>\n",
       "      <td>71.36</td>\n",
       "      <td>0.93</td>\n",
       "      <td>-0.01</td>\n",
       "      <td>0.27</td>\n",
       "      <td>0.78</td>\n",
       "      <td>...</td>\n",
       "      <td>1.41</td>\n",
       "      <td>2.04</td>\n",
       "      <td>1.61</td>\n",
       "      <td>0.22</td>\n",
       "      <td>5</td>\n",
       "      <td>7.769</td>\n",
       "      <td>7.83</td>\n",
       "      <td>7.708</td>\n",
       "      <td>0.097</td>\n",
       "      <td>1.0</td>\n",
       "    </tr>\n",
       "  </tbody>\n",
       "</table>\n",
       "<p>5 rows × 22 columns</p>\n",
       "</div>"
      ],
      "text/plain": [
       "   country  year  ladder_x  log_gdp_per_capita  social_support  \\\n",
       "0  Finland  2018      7.86               10.64            0.96   \n",
       "1  Finland  2017      7.79               10.61            0.96   \n",
       "2  Finland  2016      7.66               10.59            0.95   \n",
       "3  Finland  2015      7.45               10.57            0.95   \n",
       "4  Finland  2014      7.38               10.57            0.95   \n",
       "\n",
       "   healthy_life_expectancy  freedom  generosity  corruption  positive_affect  \\\n",
       "0                    71.90     0.94       -0.13        0.20             0.78   \n",
       "1                    71.80     0.96       -0.01        0.19             0.79   \n",
       "2                    71.70     0.95       -0.03        0.25             0.80   \n",
       "3                    71.60     0.93        0.11        0.22             0.75   \n",
       "4                    71.36     0.93       -0.01        0.27             0.78   \n",
       "\n",
       "    ...    democratic_quality  delivery_quality  well_being_inequality_1  \\\n",
       "0   ...                   NaN               NaN                     1.43   \n",
       "1   ...                  1.31              2.00                     1.42   \n",
       "2   ...                  1.27              1.98                     1.48   \n",
       "3   ...                  1.29              2.00                     1.57   \n",
       "4   ...                  1.41              2.04                     1.61   \n",
       "\n",
       "   well_being_inequality_2  rank_x  ladder_y  whisker-high  whisker-low  \\\n",
       "0                     0.18       1     7.769          7.83        7.708   \n",
       "1                     0.18       1     7.769          7.83        7.708   \n",
       "2                     0.19       1     7.769          7.83        7.708   \n",
       "3                     0.21       5     7.769          7.83        7.708   \n",
       "4                     0.22       5     7.769          7.83        7.708   \n",
       "\n",
       "   changes_happiness  rank_y  \n",
       "0              0.097     1.0  \n",
       "1              0.097     1.0  \n",
       "2              0.097     1.0  \n",
       "3              0.097     1.0  \n",
       "4              0.097     1.0  \n",
       "\n",
       "[5 rows x 22 columns]"
      ]
     },
     "execution_count": 59,
     "metadata": {},
     "output_type": "execute_result"
    }
   ],
   "source": [
    "# merge with whr_all_years\n",
    "whr_df = pd.merge(whr_all_years, df, left_on = 'country', right_on = 'country', how = 'outer')\n",
    "whr_df.head()"
   ]
  },
  {
   "cell_type": "code",
   "execution_count": 60,
   "metadata": {},
   "outputs": [
    {
     "name": "stdout",
     "output_type": "stream",
     "text": [
      "<class 'pandas.core.frame.DataFrame'>\n",
      "Int64Index: 1704 entries, 0 to 1703\n",
      "Data columns (total 22 columns):\n",
      "country                    1704 non-null object\n",
      "year                       1704 non-null int64\n",
      "ladder_x                   1704 non-null float64\n",
      "log_gdp_per_capita         1676 non-null float64\n",
      "social_support             1691 non-null float64\n",
      "healthy_life_expectancy    1676 non-null float64\n",
      "freedom                    1675 non-null float64\n",
      "generosity                 1622 non-null float64\n",
      "corruption                 1608 non-null float64\n",
      "positive_affect            1685 non-null float64\n",
      "negative_affect            1691 non-null float64\n",
      "trust_government           1530 non-null float64\n",
      "democratic_quality         1558 non-null float64\n",
      "delivery_quality           1559 non-null float64\n",
      "well_being_inequality_1    1704 non-null float64\n",
      "well_being_inequality_2    1704 non-null float64\n",
      "rank_x                     1704 non-null int64\n",
      "ladder_y                   1681 non-null float64\n",
      "whisker-high               1681 non-null float64\n",
      "whisker-low                1681 non-null float64\n",
      "changes_happiness          1681 non-null float64\n",
      "rank_y                     1681 non-null float64\n",
      "dtypes: float64(19), int64(2), object(1)\n",
      "memory usage: 306.2+ KB\n"
     ]
    }
   ],
   "source": [
    "whr_df.info()"
   ]
  },
  {
   "cell_type": "raw",
   "metadata": {},
   "source": [
    "whr_df.to_csv('whr_df.csv') # then work in excel to handle some missing values --> output is 'whr_clean.csv'"
   ]
  },
  {
   "cell_type": "markdown",
   "metadata": {},
   "source": [
    "# Split whr_clean.csv file as needed"
   ]
  },
  {
   "cell_type": "code",
   "execution_count": 6,
   "metadata": {},
   "outputs": [],
   "source": [
    "whr_clean = pd.read_csv('whr_clean.csv')"
   ]
  },
  {
   "cell_type": "code",
   "execution_count": 7,
   "metadata": {},
   "outputs": [
    {
     "name": "stdout",
     "output_type": "stream",
     "text": [
      "<class 'pandas.core.frame.DataFrame'>\n",
      "RangeIndex: 1700 entries, 0 to 1699\n",
      "Data columns (total 19 columns):\n",
      "country                    1700 non-null object\n",
      "year                       1700 non-null int64\n",
      "ladder                     1700 non-null float64\n",
      "log_gdp_per_capita         1700 non-null float64\n",
      "social_support             1700 non-null float64\n",
      "healthy_life_expectancy    1700 non-null float64\n",
      "freedom                    1700 non-null float64\n",
      "generosity                 1700 non-null float64\n",
      "corruption                 1700 non-null float64\n",
      "positive_affect            1700 non-null float64\n",
      "negative_affect            1700 non-null float64\n",
      "well_being_inequality_1    1700 non-null float64\n",
      "well_being_inequality_2    1700 non-null float64\n",
      "rank                       1700 non-null int64\n",
      "ladder_16to18              1681 non-null float64\n",
      "whisker-high               1681 non-null float64\n",
      "whisker-low                1681 non-null float64\n",
      "changes_happiness          1681 non-null float64\n",
      "rank_16to18                1681 non-null float64\n",
      "dtypes: float64(16), int64(2), object(1)\n",
      "memory usage: 252.4+ KB\n"
     ]
    }
   ],
   "source": [
    "whr_clean.info()"
   ]
  },
  {
   "cell_type": "code",
   "execution_count": 8,
   "metadata": {},
   "outputs": [],
   "source": [
    "# replace missing values in changes_happiness column with 0\n",
    "whr_clean = whr_clean.fillna(0)"
   ]
  },
  {
   "cell_type": "code",
   "execution_count": 9,
   "metadata": {},
   "outputs": [
    {
     "name": "stdout",
     "output_type": "stream",
     "text": [
      "<class 'pandas.core.frame.DataFrame'>\n",
      "RangeIndex: 1700 entries, 0 to 1699\n",
      "Data columns (total 14 columns):\n",
      "country                    1700 non-null object\n",
      "year                       1700 non-null int64\n",
      "rank                       1700 non-null int64\n",
      "ladder                     1700 non-null float64\n",
      "log_gdp_per_capita         1700 non-null float64\n",
      "social_support             1700 non-null float64\n",
      "healthy_life_expectancy    1700 non-null float64\n",
      "freedom                    1700 non-null float64\n",
      "generosity                 1700 non-null float64\n",
      "corruption                 1700 non-null float64\n",
      "positive_affect            1700 non-null float64\n",
      "negative_affect            1700 non-null float64\n",
      "well_being_inequality_1    1700 non-null float64\n",
      "changes_happiness          1700 non-null float64\n",
      "dtypes: float64(11), int64(2), object(1)\n",
      "memory usage: 186.0+ KB\n"
     ]
    }
   ],
   "source": [
    "whr_clean_all_years = whr_clean[['country', 'year', 'rank', 'ladder', 'log_gdp_per_capita', 'social_support',\n",
    "                                 'healthy_life_expectancy', 'freedom', 'generosity', 'corruption', 'positive_affect',\n",
    "                                'negative_affect', 'well_being_inequality_1', 'changes_happiness']]\n",
    "whr_clean_all_years.info()"
   ]
  },
  {
   "cell_type": "code",
   "execution_count": 10,
   "metadata": {},
   "outputs": [],
   "source": [
    "# create whr_clean by year\n",
    "whr_clean_2018 = whr_clean_all_years[whr_clean_all_years.year == 2018].reset_index(drop=True)\n",
    "whr_clean_2017 = whr_clean_all_years[whr_clean_all_years.year == 2017].reset_index(drop=True)\n",
    "whr_clean_2016 = whr_clean_all_years[whr_clean_all_years.year == 2016].reset_index(drop=True)\n",
    "whr_clean_2015 = whr_clean_all_years[whr_clean_all_years.year == 2015].reset_index(drop=True)\n",
    "whr_clean_2014 = whr_clean_all_years[whr_clean_all_years.year == 2014].reset_index(drop=True)\n",
    "whr_clean_2013 = whr_clean_all_years[whr_clean_all_years.year == 2013].reset_index(drop=True)\n",
    "whr_clean_2012 = whr_clean_all_years[whr_clean_all_years.year == 2012].reset_index(drop=True)\n",
    "whr_clean_2011 = whr_clean_all_years[whr_clean_all_years.year == 2011].reset_index(drop=True)\n",
    "whr_clean_2010 = whr_clean_all_years[whr_clean_all_years.year == 2010].reset_index(drop=True)\n",
    "whr_clean_2009 = whr_clean_all_years[whr_clean_all_years.year == 2009].reset_index(drop=True)\n",
    "whr_clean_2008 = whr_clean_all_years[whr_clean_all_years.year == 2008].reset_index(drop=True)\n",
    "whr_clean_2007 = whr_clean_all_years[whr_clean_all_years.year == 2007].reset_index(drop=True)\n",
    "whr_clean_2006 = whr_clean_all_years[whr_clean_all_years.year == 2006].reset_index(drop=True)\n",
    "whr_clean_2005 = whr_clean_all_years[whr_clean_all_years.year == 2005].reset_index(drop=True)"
   ]
  },
  {
   "cell_type": "code",
   "execution_count": 11,
   "metadata": {},
   "outputs": [
    {
     "name": "stdout",
     "output_type": "stream",
     "text": [
      "<class 'pandas.core.frame.DataFrame'>\n",
      "RangeIndex: 1700 entries, 0 to 1699\n",
      "Data columns (total 14 columns):\n",
      "country                    1700 non-null object\n",
      "year                       1700 non-null int64\n",
      "rank                       1700 non-null int64\n",
      "ladder                     1700 non-null float64\n",
      "log_gdp_per_capita         1700 non-null float64\n",
      "social_support             1700 non-null float64\n",
      "healthy_life_expectancy    1700 non-null float64\n",
      "freedom                    1700 non-null float64\n",
      "generosity                 1700 non-null float64\n",
      "corruption                 1700 non-null float64\n",
      "positive_affect            1700 non-null float64\n",
      "negative_affect            1700 non-null float64\n",
      "well_being_inequality_1    1700 non-null float64\n",
      "changes_happiness          1700 non-null float64\n",
      "dtypes: float64(11), int64(2), object(1)\n",
      "memory usage: 186.0+ KB\n"
     ]
    }
   ],
   "source": [
    "whr_clean_all_years = pd.concat([whr_clean_2018, whr_clean_2017, whr_clean_2016, whr_clean_2015, whr_clean_2014,\n",
    "                                 whr_clean_2013, whr_clean_2012, whr_clean_2011, whr_clean_2010, whr_clean_2009,\n",
    "                                 whr_clean_2008, whr_clean_2007, whr_clean_2006, whr_clean_2005], ignore_index=True)\n",
    "whr_clean_all_years.info()"
   ]
  },
  {
   "cell_type": "raw",
   "metadata": {},
   "source": [
    "# save all whr_clean files to csv\n",
    "whr_clean_2018.to_csv('whr_2018.csv')\n",
    "whr_clean_2017.to_csv('whr_2017.csv')\n",
    "whr_clean_2016.to_csv('whr_2016.csv')\n",
    "whr_clean_2015.to_csv('whr_2015.csv')\n",
    "whr_clean_2014.to_csv('whr_2014.csv')\n",
    "whr_clean_2013.to_csv('whr_2013.csv')\n",
    "whr_clean_2012.to_csv('whr_2012.csv')\n",
    "whr_clean_2011.to_csv('whr_2011.csv')\n",
    "whr_clean_2010.to_csv('whr_2010.csv')\n",
    "whr_clean_2009.to_csv('whr_2009.csv')\n",
    "whr_clean_2008.to_csv('whr_2008.csv')\n",
    "whr_clean_2007.to_csv('whr_2007.csv')\n",
    "whr_clean_2006.to_csv('whr_2006.csv')\n",
    "whr_clean_2005.to_csv('whr_2005.csv')\n",
    "whr_clean_all_years.to_csv('whr_all_years.csv')"
   ]
  },
  {
   "cell_type": "markdown",
   "metadata": {},
   "source": [
    "# Merge with country_info.csv to get the 3-letter country codes"
   ]
  },
  {
   "cell_type": "code",
   "execution_count": 13,
   "metadata": {},
   "outputs": [
    {
     "name": "stdout",
     "output_type": "stream",
     "text": [
      "<class 'pandas.core.frame.DataFrame'>\n",
      "RangeIndex: 185 entries, 0 to 184\n",
      "Data columns (total 18 columns):\n",
      "country      185 non-null object\n",
      "ISO code     185 non-null object\n",
      "OECD         185 non-null int64\n",
      "CIS          185 non-null int64\n",
      "NATO         185 non-null int64\n",
      "EU           185 non-null int64\n",
      "Schengen     185 non-null int64\n",
      "Eurozone     185 non-null int64\n",
      "ACP Group    185 non-null int64\n",
      "CAN          185 non-null int64\n",
      "APEC         185 non-null int64\n",
      "BSEC         185 non-null int64\n",
      "Caricom      185 non-null int64\n",
      "EFTA         185 non-null int64\n",
      "NAFTA        185 non-null int64\n",
      "WTO          185 non-null int64\n",
      "continent    185 non-null object\n",
      "region       184 non-null object\n",
      "dtypes: int64(14), object(4)\n",
      "memory usage: 26.1+ KB\n"
     ]
    }
   ],
   "source": [
    "countries = pd.read_csv('country_info.csv')\n",
    "countries.info()"
   ]
  },
  {
   "cell_type": "code",
   "execution_count": 14,
   "metadata": {},
   "outputs": [
    {
     "name": "stdout",
     "output_type": "stream",
     "text": [
      "<class 'pandas.core.frame.DataFrame'>\n",
      "RangeIndex: 185 entries, 0 to 184\n",
      "Data columns (total 2 columns):\n",
      "country     185 non-null object\n",
      "iso_code    185 non-null object\n",
      "dtypes: object(2)\n",
      "memory usage: 3.0+ KB\n"
     ]
    }
   ],
   "source": [
    "countries.rename(columns = {'ISO code': 'iso_code'}, inplace=True)\n",
    "iso_codes = countries[['country', 'iso_code']]\n",
    "iso_codes.info()"
   ]
  },
  {
   "cell_type": "code",
   "execution_count": 15,
   "metadata": {},
   "outputs": [
    {
     "name": "stdout",
     "output_type": "stream",
     "text": [
      "<class 'pandas.core.frame.DataFrame'>\n",
      "RangeIndex: 1700 entries, 0 to 1699\n",
      "Data columns (total 15 columns):\n",
      "Unnamed: 0                 1700 non-null int64\n",
      "country                    1700 non-null object\n",
      "year                       1700 non-null int64\n",
      "rank                       1700 non-null int64\n",
      "ladder                     1700 non-null float64\n",
      "log_gdp_per_capita         1700 non-null float64\n",
      "social_support             1700 non-null float64\n",
      "healthy_life_expectancy    1700 non-null float64\n",
      "freedom                    1700 non-null float64\n",
      "generosity                 1700 non-null float64\n",
      "corruption                 1700 non-null float64\n",
      "positive_affect            1700 non-null float64\n",
      "negative_affect            1700 non-null float64\n",
      "well_being_inequality_1    1700 non-null float64\n",
      "changes_happiness          1700 non-null float64\n",
      "dtypes: float64(11), int64(3), object(1)\n",
      "memory usage: 199.3+ KB\n"
     ]
    }
   ],
   "source": [
    "whr_clean_all_years = pd.read_csv('whr_all_years.csv')\n",
    "whr_clean_all_years.info()"
   ]
  },
  {
   "cell_type": "code",
   "execution_count": 19,
   "metadata": {},
   "outputs": [
    {
     "name": "stdout",
     "output_type": "stream",
     "text": [
      "<class 'pandas.core.frame.DataFrame'>\n",
      "Int64Index: 1700 entries, 0 to 1699\n",
      "Data columns (total 16 columns):\n",
      "Unnamed: 0                 1700 non-null int64\n",
      "country                    1700 non-null object\n",
      "year                       1700 non-null int64\n",
      "rank                       1700 non-null int64\n",
      "ladder                     1700 non-null float64\n",
      "log_gdp_per_capita         1700 non-null float64\n",
      "social_support             1700 non-null float64\n",
      "healthy_life_expectancy    1700 non-null float64\n",
      "freedom                    1700 non-null float64\n",
      "generosity                 1700 non-null float64\n",
      "corruption                 1700 non-null float64\n",
      "positive_affect            1700 non-null float64\n",
      "negative_affect            1700 non-null float64\n",
      "well_being_inequality_1    1700 non-null float64\n",
      "changes_happiness          1700 non-null float64\n",
      "iso_code                   1700 non-null object\n",
      "dtypes: float64(11), int64(3), object(2)\n",
      "memory usage: 225.8+ KB\n"
     ]
    }
   ],
   "source": [
    "df = pd.merge(whr_clean_all_years, iso_codes, left_on = 'country', right_on = 'country', how = 'left')\n",
    "df.info()"
   ]
  },
  {
   "cell_type": "code",
   "execution_count": 20,
   "metadata": {},
   "outputs": [
    {
     "name": "stdout",
     "output_type": "stream",
     "text": [
      "<class 'pandas.core.frame.DataFrame'>\n",
      "Int64Index: 1700 entries, 0 to 1699\n",
      "Data columns (total 15 columns):\n",
      "country                    1700 non-null object\n",
      "year                       1700 non-null int64\n",
      "rank                       1700 non-null int64\n",
      "ladder                     1700 non-null float64\n",
      "log_gdp_per_capita         1700 non-null float64\n",
      "social_support             1700 non-null float64\n",
      "healthy_life_expectancy    1700 non-null float64\n",
      "freedom                    1700 non-null float64\n",
      "generosity                 1700 non-null float64\n",
      "corruption                 1700 non-null float64\n",
      "positive_affect            1700 non-null float64\n",
      "negative_affect            1700 non-null float64\n",
      "well_being_inequality_1    1700 non-null float64\n",
      "changes_happiness          1700 non-null float64\n",
      "iso_code                   1700 non-null object\n",
      "dtypes: float64(11), int64(2), object(2)\n",
      "memory usage: 212.5+ KB\n"
     ]
    }
   ],
   "source": [
    "# Drop column 'Unnamed: 0'\n",
    "df.drop('Unnamed: 0', axis=1, inplace=True)\n",
    "df.info()"
   ]
  },
  {
   "cell_type": "raw",
   "metadata": {},
   "source": [
    "df.to_csv('whr_data.csv')"
   ]
  },
  {
   "cell_type": "markdown",
   "metadata": {},
   "source": [
    "# Combine with additional data from 'countries.json' "
   ]
  },
  {
   "cell_type": "code",
   "execution_count": 49,
   "metadata": {},
   "outputs": [],
   "source": [
    "# dependencies\n",
    "import json\n",
    "import requests\n",
    "import pandas as pd\n",
    "import numpy as np"
   ]
  },
  {
   "cell_type": "code",
   "execution_count": 50,
   "metadata": {},
   "outputs": [
    {
     "data": {
      "text/plain": [
       "250"
      ]
     },
     "execution_count": 50,
     "metadata": {},
     "output_type": "execute_result"
    }
   ],
   "source": [
    "all_countries_url = \"https://raw.githubusercontent.com/mledoze/countries/master/countries.json\"\n",
    "response = requests.get(all_countries_url).json()\n",
    "len(response)"
   ]
  },
  {
   "cell_type": "code",
   "execution_count": 51,
   "metadata": {},
   "outputs": [
    {
     "data": {
      "text/plain": [
       "{'name': {'common': 'Aruba',\n",
       "  'official': 'Aruba',\n",
       "  'native': {'nld': {'official': 'Aruba', 'common': 'Aruba'},\n",
       "   'pap': {'official': 'Aruba', 'common': 'Aruba'}}},\n",
       " 'tld': ['.aw'],\n",
       " 'cca2': 'AW',\n",
       " 'ccn3': '533',\n",
       " 'cca3': 'ABW',\n",
       " 'cioc': 'ARU',\n",
       " 'independent': False,\n",
       " 'status': 'officially-assigned',\n",
       " 'currencies': {'AWG': {'name': 'Aruban florin', 'symbol': 'ƒ'}},\n",
       " 'idd': {'root': '+2', 'suffixes': ['97']},\n",
       " 'capital': ['Oranjestad'],\n",
       " 'altSpellings': ['AW'],\n",
       " 'region': 'Americas',\n",
       " 'subregion': 'Caribbean',\n",
       " 'languages': {'nld': 'Dutch', 'pap': 'Papiamento'},\n",
       " 'translations': {'ces': {'official': 'Aruba', 'common': 'Aruba'},\n",
       "  'deu': {'official': 'Aruba', 'common': 'Aruba'},\n",
       "  'fra': {'official': 'Aruba', 'common': 'Aruba'},\n",
       "  'hrv': {'official': 'Aruba', 'common': 'Aruba'},\n",
       "  'ita': {'official': 'Aruba', 'common': 'Aruba'},\n",
       "  'jpn': {'official': 'アルバ', 'common': 'アルバ'},\n",
       "  'nld': {'official': 'Aruba', 'common': 'Aruba'},\n",
       "  'por': {'official': 'Aruba', 'common': 'Aruba'},\n",
       "  'rus': {'official': 'Аруба', 'common': 'Аруба'},\n",
       "  'slk': {'official': 'Aruba', 'common': 'Aruba'},\n",
       "  'spa': {'official': 'Aruba', 'common': 'Aruba'},\n",
       "  'fin': {'official': 'Aruba', 'common': 'Aruba'},\n",
       "  'est': {'official': 'Aruba', 'common': 'Aruba'},\n",
       "  'zho': {'official': '阿鲁巴', 'common': '阿鲁巴'},\n",
       "  'pol': {'official': 'Aruba', 'common': 'Aruba'},\n",
       "  'urd': {'official': 'اروبا', 'common': 'اروبا'},\n",
       "  'kor': {'official': '아루바', 'common': '아루바'}},\n",
       " 'latlng': [12.5, -69.96666666],\n",
       " 'demonym': 'Aruban',\n",
       " 'landlocked': False,\n",
       " 'borders': [],\n",
       " 'area': 180,\n",
       " 'flag': '🇦🇼'}"
      ]
     },
     "execution_count": 51,
     "metadata": {},
     "output_type": "execute_result"
    }
   ],
   "source": [
    "response[0]"
   ]
  },
  {
   "cell_type": "code",
   "execution_count": 52,
   "metadata": {},
   "outputs": [],
   "source": [
    "# Set up lists to hold reponse info:\n",
    "common_name = []\n",
    "official_name = []\n",
    "tld = []\n",
    "cca2 = []\n",
    "ccn3 = []\n",
    "cca3 = []\n",
    "cioc = []\n",
    "independent = []\n",
    "capital = []\n",
    "region = []\n",
    "subregion = []\n",
    "official_languages = []\n",
    "latitude = []\n",
    "longitude = []\n",
    "demonym = []\n",
    "landlocked = []\n",
    "borders = []\n",
    "area_sqkm = []\n",
    "flag_emoji = []\n",
    "\n",
    "# Populate the lists:\n",
    "for item in response:\n",
    "    common_name.append(item['name']['common'])\n",
    "    official_name.append(item['name']['official'])\n",
    "    tld.append(item['tld'])\n",
    "    cca2.append(item['cca2'])\n",
    "    ccn3.append(item['ccn3'])\n",
    "    cca3.append(item['cca3'])\n",
    "    cioc.append(item['cioc'])\n",
    "    independent.append(item['independent'])\n",
    "    capital.append(item['capital'])\n",
    "    region.append(item['region'])\n",
    "    subregion.append(item['subregion'])\n",
    "    official_languages.append(item['languages'])\n",
    "    latitude.append(item['latlng'][0])\n",
    "    longitude.append(item['latlng'][1])\n",
    "    demonym.append(item['demonym'])\n",
    "    landlocked.append(item['landlocked'])\n",
    "    borders.append(item['borders'])\n",
    "    area_sqkm.append(item['area'])\n",
    "    flag_emoji.append(item['flag'])"
   ]
  },
  {
   "cell_type": "code",
   "execution_count": 53,
   "metadata": {},
   "outputs": [
    {
     "data": {
      "text/html": [
       "<div>\n",
       "<style scoped>\n",
       "    .dataframe tbody tr th:only-of-type {\n",
       "        vertical-align: middle;\n",
       "    }\n",
       "\n",
       "    .dataframe tbody tr th {\n",
       "        vertical-align: top;\n",
       "    }\n",
       "\n",
       "    .dataframe thead th {\n",
       "        text-align: right;\n",
       "    }\n",
       "</style>\n",
       "<table border=\"1\" class=\"dataframe\">\n",
       "  <thead>\n",
       "    <tr style=\"text-align: right;\">\n",
       "      <th></th>\n",
       "      <th>common_name</th>\n",
       "      <th>official_name</th>\n",
       "      <th>tld</th>\n",
       "      <th>cca2</th>\n",
       "      <th>ccn3</th>\n",
       "      <th>cca3</th>\n",
       "      <th>cioc</th>\n",
       "      <th>independent</th>\n",
       "      <th>capital</th>\n",
       "      <th>region</th>\n",
       "      <th>subregion</th>\n",
       "      <th>official_languages</th>\n",
       "      <th>latitude</th>\n",
       "      <th>longitude</th>\n",
       "      <th>demonym</th>\n",
       "      <th>landlocked</th>\n",
       "      <th>borders</th>\n",
       "      <th>area_sqkm</th>\n",
       "      <th>flag_emoji</th>\n",
       "    </tr>\n",
       "  </thead>\n",
       "  <tbody>\n",
       "    <tr>\n",
       "      <th>0</th>\n",
       "      <td>Aruba</td>\n",
       "      <td>Aruba</td>\n",
       "      <td>[.aw]</td>\n",
       "      <td>AW</td>\n",
       "      <td>533</td>\n",
       "      <td>ABW</td>\n",
       "      <td>ARU</td>\n",
       "      <td>False</td>\n",
       "      <td>[Oranjestad]</td>\n",
       "      <td>Americas</td>\n",
       "      <td>Caribbean</td>\n",
       "      <td>{'nld': 'Dutch', 'pap': 'Papiamento'}</td>\n",
       "      <td>12.500000</td>\n",
       "      <td>-69.966667</td>\n",
       "      <td>Aruban</td>\n",
       "      <td>False</td>\n",
       "      <td>[]</td>\n",
       "      <td>180.0</td>\n",
       "      <td>🇦🇼</td>\n",
       "    </tr>\n",
       "    <tr>\n",
       "      <th>1</th>\n",
       "      <td>Afghanistan</td>\n",
       "      <td>Islamic Republic of Afghanistan</td>\n",
       "      <td>[.af]</td>\n",
       "      <td>AF</td>\n",
       "      <td>004</td>\n",
       "      <td>AFG</td>\n",
       "      <td>AFG</td>\n",
       "      <td>True</td>\n",
       "      <td>[Kabul]</td>\n",
       "      <td>Asia</td>\n",
       "      <td>Southern Asia</td>\n",
       "      <td>{'prs': 'Dari', 'pus': 'Pashto', 'tuk': 'Turkm...</td>\n",
       "      <td>33.000000</td>\n",
       "      <td>65.000000</td>\n",
       "      <td>Afghan</td>\n",
       "      <td>True</td>\n",
       "      <td>[IRN, PAK, TKM, UZB, TJK, CHN]</td>\n",
       "      <td>652230.0</td>\n",
       "      <td>🇦🇫</td>\n",
       "    </tr>\n",
       "    <tr>\n",
       "      <th>2</th>\n",
       "      <td>Angola</td>\n",
       "      <td>Republic of Angola</td>\n",
       "      <td>[.ao]</td>\n",
       "      <td>AO</td>\n",
       "      <td>024</td>\n",
       "      <td>AGO</td>\n",
       "      <td>ANG</td>\n",
       "      <td>True</td>\n",
       "      <td>[Luanda]</td>\n",
       "      <td>Africa</td>\n",
       "      <td>Middle Africa</td>\n",
       "      <td>{'por': 'Portuguese'}</td>\n",
       "      <td>-12.500000</td>\n",
       "      <td>18.500000</td>\n",
       "      <td>Angolan</td>\n",
       "      <td>False</td>\n",
       "      <td>[COG, COD, ZMB, NAM]</td>\n",
       "      <td>1246700.0</td>\n",
       "      <td>🇦🇴</td>\n",
       "    </tr>\n",
       "    <tr>\n",
       "      <th>3</th>\n",
       "      <td>Anguilla</td>\n",
       "      <td>Anguilla</td>\n",
       "      <td>[.ai]</td>\n",
       "      <td>AI</td>\n",
       "      <td>660</td>\n",
       "      <td>AIA</td>\n",
       "      <td></td>\n",
       "      <td>False</td>\n",
       "      <td>[The Valley]</td>\n",
       "      <td>Americas</td>\n",
       "      <td>Caribbean</td>\n",
       "      <td>{'eng': 'English'}</td>\n",
       "      <td>18.250000</td>\n",
       "      <td>-63.166667</td>\n",
       "      <td>Anguillian</td>\n",
       "      <td>False</td>\n",
       "      <td>[]</td>\n",
       "      <td>91.0</td>\n",
       "      <td>🇦🇮</td>\n",
       "    </tr>\n",
       "    <tr>\n",
       "      <th>4</th>\n",
       "      <td>Åland Islands</td>\n",
       "      <td>Åland Islands</td>\n",
       "      <td>[.ax]</td>\n",
       "      <td>AX</td>\n",
       "      <td>248</td>\n",
       "      <td>ALA</td>\n",
       "      <td></td>\n",
       "      <td>False</td>\n",
       "      <td>[Mariehamn]</td>\n",
       "      <td>Europe</td>\n",
       "      <td>Northern Europe</td>\n",
       "      <td>{'swe': 'Swedish'}</td>\n",
       "      <td>60.116667</td>\n",
       "      <td>19.900000</td>\n",
       "      <td>Ålandish</td>\n",
       "      <td>False</td>\n",
       "      <td>[]</td>\n",
       "      <td>1580.0</td>\n",
       "      <td>🇦🇽</td>\n",
       "    </tr>\n",
       "  </tbody>\n",
       "</table>\n",
       "</div>"
      ],
      "text/plain": [
       "     common_name                    official_name    tld cca2 ccn3 cca3 cioc  \\\n",
       "0          Aruba                            Aruba  [.aw]   AW  533  ABW  ARU   \n",
       "1    Afghanistan  Islamic Republic of Afghanistan  [.af]   AF  004  AFG  AFG   \n",
       "2         Angola               Republic of Angola  [.ao]   AO  024  AGO  ANG   \n",
       "3       Anguilla                         Anguilla  [.ai]   AI  660  AIA        \n",
       "4  Åland Islands                    Åland Islands  [.ax]   AX  248  ALA        \n",
       "\n",
       "  independent       capital    region        subregion  \\\n",
       "0       False  [Oranjestad]  Americas        Caribbean   \n",
       "1        True       [Kabul]      Asia    Southern Asia   \n",
       "2        True      [Luanda]    Africa    Middle Africa   \n",
       "3       False  [The Valley]  Americas        Caribbean   \n",
       "4       False   [Mariehamn]    Europe  Northern Europe   \n",
       "\n",
       "                                  official_languages   latitude  longitude  \\\n",
       "0              {'nld': 'Dutch', 'pap': 'Papiamento'}  12.500000 -69.966667   \n",
       "1  {'prs': 'Dari', 'pus': 'Pashto', 'tuk': 'Turkm...  33.000000  65.000000   \n",
       "2                              {'por': 'Portuguese'} -12.500000  18.500000   \n",
       "3                                 {'eng': 'English'}  18.250000 -63.166667   \n",
       "4                                 {'swe': 'Swedish'}  60.116667  19.900000   \n",
       "\n",
       "      demonym  landlocked                         borders  area_sqkm  \\\n",
       "0      Aruban       False                              []      180.0   \n",
       "1      Afghan        True  [IRN, PAK, TKM, UZB, TJK, CHN]   652230.0   \n",
       "2     Angolan       False            [COG, COD, ZMB, NAM]  1246700.0   \n",
       "3  Anguillian       False                              []       91.0   \n",
       "4    Ålandish       False                              []     1580.0   \n",
       "\n",
       "  flag_emoji  \n",
       "0         🇦🇼  \n",
       "1         🇦🇫  \n",
       "2         🇦🇴  \n",
       "3         🇦🇮  \n",
       "4         🇦🇽  "
      ]
     },
     "execution_count": 53,
     "metadata": {},
     "output_type": "execute_result"
    }
   ],
   "source": [
    "# Create a DataFrame from the lists\n",
    "countries_dict = {\n",
    "    \"common_name\": common_name,\n",
    "    \"official_name\": official_name,\n",
    "    \"tld\": tld,\n",
    "    \"cca2\": cca2,\n",
    "    \"ccn3\": ccn3,\n",
    "    \"cca3\": cca3,\n",
    "    \"cioc\": cioc,\n",
    "    \"independent\": independent,\n",
    "    \"capital\": capital,\n",
    "    \"region\": region,\n",
    "    \"subregion\": subregion,\n",
    "    \"official_languages\": official_languages,\n",
    "    \"latitude\": latitude,\n",
    "    \"longitude\": longitude,\n",
    "    \"demonym\": demonym,\n",
    "    \"landlocked\": landlocked,\n",
    "    \"borders\": borders,\n",
    "    \"area_sqkm\": area_sqkm,\n",
    "    \"flag_emoji\": flag_emoji\n",
    "}\n",
    "countries_data = pd.DataFrame(countries_dict)\n",
    "countries_data.head()"
   ]
  },
  {
   "cell_type": "code",
   "execution_count": 54,
   "metadata": {},
   "outputs": [],
   "source": [
    "# Clean up columns 'tld' and 'capital'\n",
    "\n",
    "# expand countries_data.tld and countries_data.capital into their own dataframes\n",
    "tlds = countries_data['tld'].apply(pd.Series)\n",
    "capitals = countries_data['capital'].apply(pd.Series)\n",
    "\n",
    "# replace countries_data.tld and countries_data.capital with first column of their respective dataframes\n",
    "countries_data['tld'] = tlds[0]\n",
    "countries_data['capital'] = capitals[0]"
   ]
  },
  {
   "cell_type": "code",
   "execution_count": 55,
   "metadata": {},
   "outputs": [],
   "source": [
    "# Create number of borders column\n",
    "countries_data['nb_borders'] = countries_data['borders'].apply(lambda x: len(x))"
   ]
  },
  {
   "cell_type": "code",
   "execution_count": 56,
   "metadata": {},
   "outputs": [],
   "source": [
    "# Replace blanks with 'none' in cioc column\n",
    "countries_data['cioc'] = countries_data['cioc'].replace('', 'none')"
   ]
  },
  {
   "cell_type": "code",
   "execution_count": 57,
   "metadata": {},
   "outputs": [
    {
     "data": {
      "text/html": [
       "<div>\n",
       "<style scoped>\n",
       "    .dataframe tbody tr th:only-of-type {\n",
       "        vertical-align: middle;\n",
       "    }\n",
       "\n",
       "    .dataframe tbody tr th {\n",
       "        vertical-align: top;\n",
       "    }\n",
       "\n",
       "    .dataframe thead th {\n",
       "        text-align: right;\n",
       "    }\n",
       "</style>\n",
       "<table border=\"1\" class=\"dataframe\">\n",
       "  <thead>\n",
       "    <tr style=\"text-align: right;\">\n",
       "      <th></th>\n",
       "      <th>common_name</th>\n",
       "      <th>official_name</th>\n",
       "      <th>tld</th>\n",
       "      <th>cca2</th>\n",
       "      <th>ccn3</th>\n",
       "      <th>cca3</th>\n",
       "      <th>cioc</th>\n",
       "      <th>independent</th>\n",
       "      <th>capital</th>\n",
       "      <th>region</th>\n",
       "      <th>subregion</th>\n",
       "      <th>official_languages</th>\n",
       "      <th>latitude</th>\n",
       "      <th>longitude</th>\n",
       "      <th>demonym</th>\n",
       "      <th>landlocked</th>\n",
       "      <th>borders</th>\n",
       "      <th>area_sqkm</th>\n",
       "      <th>flag_emoji</th>\n",
       "      <th>nb_borders</th>\n",
       "    </tr>\n",
       "  </thead>\n",
       "  <tbody>\n",
       "    <tr>\n",
       "      <th>0</th>\n",
       "      <td>Aruba</td>\n",
       "      <td>Aruba</td>\n",
       "      <td>.aw</td>\n",
       "      <td>AW</td>\n",
       "      <td>533</td>\n",
       "      <td>ABW</td>\n",
       "      <td>ARU</td>\n",
       "      <td>False</td>\n",
       "      <td>Oranjestad</td>\n",
       "      <td>Americas</td>\n",
       "      <td>Caribbean</td>\n",
       "      <td>{'nld': 'Dutch', 'pap': 'Papiamento'}</td>\n",
       "      <td>12.500000</td>\n",
       "      <td>-69.966667</td>\n",
       "      <td>Aruban</td>\n",
       "      <td>False</td>\n",
       "      <td>[]</td>\n",
       "      <td>180.0</td>\n",
       "      <td>🇦🇼</td>\n",
       "      <td>0</td>\n",
       "    </tr>\n",
       "    <tr>\n",
       "      <th>1</th>\n",
       "      <td>Afghanistan</td>\n",
       "      <td>Islamic Republic of Afghanistan</td>\n",
       "      <td>.af</td>\n",
       "      <td>AF</td>\n",
       "      <td>004</td>\n",
       "      <td>AFG</td>\n",
       "      <td>AFG</td>\n",
       "      <td>True</td>\n",
       "      <td>Kabul</td>\n",
       "      <td>Asia</td>\n",
       "      <td>Southern Asia</td>\n",
       "      <td>{'prs': 'Dari', 'pus': 'Pashto', 'tuk': 'Turkm...</td>\n",
       "      <td>33.000000</td>\n",
       "      <td>65.000000</td>\n",
       "      <td>Afghan</td>\n",
       "      <td>True</td>\n",
       "      <td>[IRN, PAK, TKM, UZB, TJK, CHN]</td>\n",
       "      <td>652230.0</td>\n",
       "      <td>🇦🇫</td>\n",
       "      <td>6</td>\n",
       "    </tr>\n",
       "    <tr>\n",
       "      <th>2</th>\n",
       "      <td>Angola</td>\n",
       "      <td>Republic of Angola</td>\n",
       "      <td>.ao</td>\n",
       "      <td>AO</td>\n",
       "      <td>024</td>\n",
       "      <td>AGO</td>\n",
       "      <td>ANG</td>\n",
       "      <td>True</td>\n",
       "      <td>Luanda</td>\n",
       "      <td>Africa</td>\n",
       "      <td>Middle Africa</td>\n",
       "      <td>{'por': 'Portuguese'}</td>\n",
       "      <td>-12.500000</td>\n",
       "      <td>18.500000</td>\n",
       "      <td>Angolan</td>\n",
       "      <td>False</td>\n",
       "      <td>[COG, COD, ZMB, NAM]</td>\n",
       "      <td>1246700.0</td>\n",
       "      <td>🇦🇴</td>\n",
       "      <td>4</td>\n",
       "    </tr>\n",
       "    <tr>\n",
       "      <th>3</th>\n",
       "      <td>Anguilla</td>\n",
       "      <td>Anguilla</td>\n",
       "      <td>.ai</td>\n",
       "      <td>AI</td>\n",
       "      <td>660</td>\n",
       "      <td>AIA</td>\n",
       "      <td>none</td>\n",
       "      <td>False</td>\n",
       "      <td>The Valley</td>\n",
       "      <td>Americas</td>\n",
       "      <td>Caribbean</td>\n",
       "      <td>{'eng': 'English'}</td>\n",
       "      <td>18.250000</td>\n",
       "      <td>-63.166667</td>\n",
       "      <td>Anguillian</td>\n",
       "      <td>False</td>\n",
       "      <td>[]</td>\n",
       "      <td>91.0</td>\n",
       "      <td>🇦🇮</td>\n",
       "      <td>0</td>\n",
       "    </tr>\n",
       "    <tr>\n",
       "      <th>4</th>\n",
       "      <td>Åland Islands</td>\n",
       "      <td>Åland Islands</td>\n",
       "      <td>.ax</td>\n",
       "      <td>AX</td>\n",
       "      <td>248</td>\n",
       "      <td>ALA</td>\n",
       "      <td>none</td>\n",
       "      <td>False</td>\n",
       "      <td>Mariehamn</td>\n",
       "      <td>Europe</td>\n",
       "      <td>Northern Europe</td>\n",
       "      <td>{'swe': 'Swedish'}</td>\n",
       "      <td>60.116667</td>\n",
       "      <td>19.900000</td>\n",
       "      <td>Ålandish</td>\n",
       "      <td>False</td>\n",
       "      <td>[]</td>\n",
       "      <td>1580.0</td>\n",
       "      <td>🇦🇽</td>\n",
       "      <td>0</td>\n",
       "    </tr>\n",
       "  </tbody>\n",
       "</table>\n",
       "</div>"
      ],
      "text/plain": [
       "     common_name                    official_name  tld cca2 ccn3 cca3  cioc  \\\n",
       "0          Aruba                            Aruba  .aw   AW  533  ABW   ARU   \n",
       "1    Afghanistan  Islamic Republic of Afghanistan  .af   AF  004  AFG   AFG   \n",
       "2         Angola               Republic of Angola  .ao   AO  024  AGO   ANG   \n",
       "3       Anguilla                         Anguilla  .ai   AI  660  AIA  none   \n",
       "4  Åland Islands                    Åland Islands  .ax   AX  248  ALA  none   \n",
       "\n",
       "  independent     capital    region        subregion  \\\n",
       "0       False  Oranjestad  Americas        Caribbean   \n",
       "1        True       Kabul      Asia    Southern Asia   \n",
       "2        True      Luanda    Africa    Middle Africa   \n",
       "3       False  The Valley  Americas        Caribbean   \n",
       "4       False   Mariehamn    Europe  Northern Europe   \n",
       "\n",
       "                                  official_languages   latitude  longitude  \\\n",
       "0              {'nld': 'Dutch', 'pap': 'Papiamento'}  12.500000 -69.966667   \n",
       "1  {'prs': 'Dari', 'pus': 'Pashto', 'tuk': 'Turkm...  33.000000  65.000000   \n",
       "2                              {'por': 'Portuguese'} -12.500000  18.500000   \n",
       "3                                 {'eng': 'English'}  18.250000 -63.166667   \n",
       "4                                 {'swe': 'Swedish'}  60.116667  19.900000   \n",
       "\n",
       "      demonym  landlocked                         borders  area_sqkm  \\\n",
       "0      Aruban       False                              []      180.0   \n",
       "1      Afghan        True  [IRN, PAK, TKM, UZB, TJK, CHN]   652230.0   \n",
       "2     Angolan       False            [COG, COD, ZMB, NAM]  1246700.0   \n",
       "3  Anguillian       False                              []       91.0   \n",
       "4    Ålandish       False                              []     1580.0   \n",
       "\n",
       "  flag_emoji  nb_borders  \n",
       "0         🇦🇼           0  \n",
       "1         🇦🇫           6  \n",
       "2         🇦🇴           4  \n",
       "3         🇦🇮           0  \n",
       "4         🇦🇽           0  "
      ]
     },
     "execution_count": 57,
     "metadata": {},
     "output_type": "execute_result"
    }
   ],
   "source": [
    "countries_data.head()"
   ]
  },
  {
   "cell_type": "code",
   "execution_count": 58,
   "metadata": {},
   "outputs": [
    {
     "name": "stdout",
     "output_type": "stream",
     "text": [
      "<class 'pandas.core.frame.DataFrame'>\n",
      "RangeIndex: 250 entries, 0 to 249\n",
      "Data columns (total 20 columns):\n",
      "common_name           250 non-null object\n",
      "official_name         250 non-null object\n",
      "tld                   249 non-null object\n",
      "cca2                  250 non-null object\n",
      "ccn3                  250 non-null object\n",
      "cca3                  250 non-null object\n",
      "cioc                  250 non-null object\n",
      "independent           249 non-null object\n",
      "capital               249 non-null object\n",
      "region                250 non-null object\n",
      "subregion             250 non-null object\n",
      "official_languages    250 non-null object\n",
      "latitude              250 non-null float64\n",
      "longitude             250 non-null float64\n",
      "demonym               250 non-null object\n",
      "landlocked            250 non-null bool\n",
      "borders               250 non-null object\n",
      "area_sqkm             250 non-null float64\n",
      "flag_emoji            250 non-null object\n",
      "nb_borders            250 non-null int64\n",
      "dtypes: bool(1), float64(3), int64(1), object(15)\n",
      "memory usage: 37.4+ KB\n"
     ]
    }
   ],
   "source": [
    "countries_data.info()"
   ]
  },
  {
   "cell_type": "raw",
   "metadata": {},
   "source": [
    "countries_data.to_csv('countries_data.csv')"
   ]
  },
  {
   "cell_type": "code",
   "execution_count": 61,
   "metadata": {},
   "outputs": [
    {
     "name": "stdout",
     "output_type": "stream",
     "text": [
      "<class 'pandas.core.frame.DataFrame'>\n",
      "Int64Index: 1694 entries, 0 to 1693\n",
      "Data columns (total 35 columns):\n",
      "country                    1694 non-null object\n",
      "year                       1694 non-null int64\n",
      "rank                       1694 non-null int64\n",
      "ladder                     1694 non-null float64\n",
      "log_gdp_per_capita         1694 non-null float64\n",
      "social_support             1694 non-null float64\n",
      "healthy_life_expectancy    1694 non-null float64\n",
      "freedom                    1694 non-null float64\n",
      "generosity                 1694 non-null float64\n",
      "corruption                 1694 non-null float64\n",
      "positive_affect            1694 non-null float64\n",
      "negative_affect            1694 non-null float64\n",
      "well_being_inequality_1    1694 non-null float64\n",
      "changes_happiness          1694 non-null float64\n",
      "iso_code                   1694 non-null object\n",
      "common_name                1694 non-null object\n",
      "official_name              1694 non-null object\n",
      "tld                        1682 non-null object\n",
      "cca2                       1694 non-null object\n",
      "ccn3                       1694 non-null object\n",
      "cca3                       1694 non-null object\n",
      "cioc                       1694 non-null object\n",
      "independent                1682 non-null object\n",
      "capital                    1694 non-null object\n",
      "region                     1694 non-null object\n",
      "subregion                  1694 non-null object\n",
      "official_languages         1694 non-null object\n",
      "latitude                   1694 non-null float64\n",
      "longitude                  1694 non-null float64\n",
      "demonym                    1694 non-null object\n",
      "landlocked                 1694 non-null bool\n",
      "borders                    1694 non-null object\n",
      "area_sqkm                  1694 non-null float64\n",
      "flag_emoji                 1694 non-null object\n",
      "nb_borders                 1694 non-null int64\n",
      "dtypes: bool(1), float64(14), int64(3), object(17)\n",
      "memory usage: 464.9+ KB\n"
     ]
    }
   ],
   "source": [
    "df_more = pd.merge(df, countries_data, left_on = 'iso_code', right_on = 'cca3', how = 'inner')\n",
    "df_more.info()"
   ]
  },
  {
   "cell_type": "code",
   "execution_count": 62,
   "metadata": {},
   "outputs": [
    {
     "name": "stdout",
     "output_type": "stream",
     "text": [
      "<class 'pandas.core.frame.DataFrame'>\n",
      "Int64Index: 1694 entries, 0 to 1693\n",
      "Data columns (total 35 columns):\n",
      "country                    1694 non-null object\n",
      "year                       1694 non-null int64\n",
      "rank                       1694 non-null int64\n",
      "ladder                     1694 non-null float64\n",
      "log_gdp_per_capita         1694 non-null float64\n",
      "social_support             1694 non-null float64\n",
      "healthy_life_expectancy    1694 non-null float64\n",
      "freedom                    1694 non-null float64\n",
      "generosity                 1694 non-null float64\n",
      "corruption                 1694 non-null float64\n",
      "positive_affect            1694 non-null float64\n",
      "negative_affect            1694 non-null float64\n",
      "well_being_inequality_1    1694 non-null float64\n",
      "changes_happiness          1694 non-null float64\n",
      "iso_code                   1694 non-null object\n",
      "common_name                1694 non-null object\n",
      "official_name              1694 non-null object\n",
      "tld                        1694 non-null object\n",
      "cca2                       1694 non-null object\n",
      "ccn3                       1694 non-null object\n",
      "cca3                       1694 non-null object\n",
      "cioc                       1694 non-null object\n",
      "independent                1694 non-null object\n",
      "capital                    1694 non-null object\n",
      "region                     1694 non-null object\n",
      "subregion                  1694 non-null object\n",
      "official_languages         1694 non-null object\n",
      "latitude                   1694 non-null float64\n",
      "longitude                  1694 non-null float64\n",
      "demonym                    1694 non-null object\n",
      "landlocked                 1694 non-null bool\n",
      "borders                    1694 non-null object\n",
      "area_sqkm                  1694 non-null float64\n",
      "flag_emoji                 1694 non-null object\n",
      "nb_borders                 1694 non-null int64\n",
      "dtypes: bool(1), float64(14), int64(3), object(17)\n",
      "memory usage: 464.9+ KB\n"
     ]
    }
   ],
   "source": [
    "# replace missing values with string 'n/a'\n",
    "df_more = df_more.fillna('n/a')\n",
    "df_more.info()"
   ]
  },
  {
   "cell_type": "code",
   "execution_count": 63,
   "metadata": {},
   "outputs": [],
   "source": [
    "# create whr by year\n",
    "whr_2018 = df_more[df_more.year == 2018].reset_index(drop=True)\n",
    "whr_2017 = df_more[df_more.year == 2017].reset_index(drop=True)\n",
    "whr_2016 = df_more[df_more.year == 2016].reset_index(drop=True)\n",
    "whr_2015 = df_more[df_more.year == 2015].reset_index(drop=True)\n",
    "whr_2014 = df_more[df_more.year == 2014].reset_index(drop=True)\n",
    "whr_2013 = df_more[df_more.year == 2013].reset_index(drop=True)\n",
    "whr_2012 = df_more[df_more.year == 2012].reset_index(drop=True)\n",
    "whr_2011 = df_more[df_more.year == 2011].reset_index(drop=True)\n",
    "whr_2010 = df_more[df_more.year == 2010].reset_index(drop=True)\n",
    "whr_2009 = df_more[df_more.year == 2009].reset_index(drop=True)\n",
    "whr_2008 = df_more[df_more.year == 2008].reset_index(drop=True)\n",
    "whr_2007 = df_more[df_more.year == 2007].reset_index(drop=True)\n",
    "whr_2006 = df_more[df_more.year == 2006].reset_index(drop=True)\n",
    "whr_2005 = df_more[df_more.year == 2005].reset_index(drop=True)"
   ]
  },
  {
   "cell_type": "raw",
   "metadata": {},
   "source": [
    "# save all whr files to csv\n",
    "whr_2018.to_csv('whr_2018.csv')\n",
    "whr_2017.to_csv('whr_2017.csv')\n",
    "whr_2016.to_csv('whr_2016.csv')\n",
    "whr_2015.to_csv('whr_2015.csv')\n",
    "whr_2014.to_csv('whr_2014.csv')\n",
    "whr_2013.to_csv('whr_2013.csv')\n",
    "whr_2012.to_csv('whr_2012.csv')\n",
    "whr_2011.to_csv('whr_2011.csv')\n",
    "whr_2010.to_csv('whr_2010.csv')\n",
    "whr_2009.to_csv('whr_2009.csv')\n",
    "whr_2008.to_csv('whr_2008.csv')\n",
    "whr_2007.to_csv('whr_2007.csv')\n",
    "whr_2006.to_csv('whr_2006.csv')\n",
    "whr_2005.to_csv('whr_2005.csv')\n",
    "df_more.to_csv('whr_all_years.csv')"
   ]
  },
  {
   "cell_type": "code",
   "execution_count": 74,
   "metadata": {},
   "outputs": [
    {
     "data": {
      "text/plain": [
       "4.01"
      ]
     },
     "execution_count": 74,
     "metadata": {},
     "output_type": "execute_result"
    }
   ],
   "source": [
    "whr_2016.ladder.quantile(.1)"
   ]
  },
  {
   "cell_type": "code",
   "execution_count": 64,
   "metadata": {},
   "outputs": [
    {
     "data": {
      "text/plain": [
       "array(['Southern Asia', 'Southern Europe', 'Northern Africa',\n",
       "       'South America', 'Western Asia', 'Australia and New Zealand',\n",
       "       'Western Europe', 'Eastern Europe', 'Western Africa',\n",
       "       'Southern Africa', 'Eastern Africa', 'South-Eastern Asia',\n",
       "       'Middle Africa', 'North America', 'Eastern Asia',\n",
       "       'Central America', 'Northern Europe', 'Caribbean', 'Central Asia',\n",
       "       'Central Europe'], dtype=object)"
      ]
     },
     "execution_count": 64,
     "metadata": {},
     "output_type": "execute_result"
    }
   ],
   "source": [
    "df_more.subregion.unique()"
   ]
  },
  {
   "cell_type": "code",
   "execution_count": 65,
   "metadata": {},
   "outputs": [
    {
     "data": {
      "text/plain": [
       "array(['Asia', 'Europe', 'Africa', 'Americas', 'Oceania'], dtype=object)"
      ]
     },
     "execution_count": 65,
     "metadata": {},
     "output_type": "execute_result"
    }
   ],
   "source": [
    "df_more.region.unique()"
   ]
  },
  {
   "cell_type": "code",
   "execution_count": null,
   "metadata": {},
   "outputs": [],
   "source": []
  }
 ],
 "metadata": {
  "kernelspec": {
   "display_name": "Python [conda env:pythondata]",
   "language": "python",
   "name": "conda-env-pythondata-py"
  },
  "language_info": {
   "codemirror_mode": {
    "name": "ipython",
    "version": 3
   },
   "file_extension": ".py",
   "mimetype": "text/x-python",
   "name": "python",
   "nbconvert_exporter": "python",
   "pygments_lexer": "ipython3",
   "version": "3.6.8"
  }
 },
 "nbformat": 4,
 "nbformat_minor": 2
}
